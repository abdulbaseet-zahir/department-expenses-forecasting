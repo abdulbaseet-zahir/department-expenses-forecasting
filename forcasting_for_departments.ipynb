{
 "cells": [
  {
   "cell_type": "code",
   "execution_count": null,
   "metadata": {
    "ExecuteTime": {
     "end_time": "2024-05-23T06:59:29.300035Z",
     "start_time": "2024-05-23T06:59:27.266972Z"
    }
   },
   "outputs": [],
   "source": [
    "import pandas as pd  # data processing, CSV file I/O (e.g. pd.read_csv)\n",
    "import plotly.express as px  # for data visualization\n",
    "import plotly.graph_objects as go  # for data visualization\n",
    "from prophet import Prophet  # for time series forecasting"
   ]
  },
  {
   "cell_type": "code",
   "execution_count": null,
   "metadata": {},
   "outputs": [],
   "source": [
    "data = pd.read_csv(\"data/data.csv\")  # Read the original data from the csv file\n",
    "data[\"Months\"] = pd.to_datetime(\n",
    "    data[\"Months\"]\n",
    ")  # Convert the Months column to datetime format"
   ]
  },
  {
   "cell_type": "code",
   "execution_count": null,
   "metadata": {},
   "outputs": [],
   "source": [
    "data = (\n",
    "    data.groupby([\"Department_ID\", \"Months\"])[\"Expenses\"].sum().reset_index()\n",
    ")  # Group by Department_ID and Months and sum the Expenses so that we get the total expenses for each department in each month"
   ]
  },
  {
   "cell_type": "code",
   "execution_count": null,
   "metadata": {},
   "outputs": [],
   "source": [
    "pivoted_df = data.pivot(\n",
    "    index=\"Months\", columns=\"Department_ID\", values=\"Expenses\"\n",
    ").reset_index()  # Pivot the data so that we have the months as the index and the Department_ID as the columns"
   ]
  },
  {
   "cell_type": "code",
   "execution_count": null,
   "metadata": {},
   "outputs": [],
   "source": [
    "fig = px.line(\n",
    "    pivoted_df,\n",
    "    x=\"Months\",\n",
    "    y=pivoted_df.columns,\n",
    "    hover_data={\"Months\": \"|%B %d, %Y\"},\n",
    "    title=\"Expenses by Department\",\n",
    ")\n",
    "fig.update_xaxes(dtick=\"M1\", tickformat=\"%b\\n%Y\")\n",
    "fig.show()"
   ]
  },
  {
   "cell_type": "code",
   "execution_count": null,
   "metadata": {},
   "outputs": [],
   "source": [
    "department_id = 3100  # Department ID for which we want to forecast the expenses\n",
    "\n",
    "data = pivoted_df[[\"Months\", department_id]].rename(\n",
    "    columns={\"Months\": \"ds\", department_id: \"y\"}\n",
    ")  # Select the data for the department_id and rename the columns to 'ds' and 'y' as required by Prophet"
   ]
  },
  {
   "cell_type": "code",
   "execution_count": null,
   "metadata": {
    "ExecuteTime": {
     "end_time": "2024-05-23T06:57:50.292505Z",
     "start_time": "2024-05-23T06:57:50.292505Z"
    }
   },
   "outputs": [],
   "source": [
    "fig = px.line(data, x=\"ds\", y=\"y\")\n",
    "fig.update_layout(title=\"Expenses of Department ID \" + str(department_id))\n",
    "fig.show()"
   ]
  },
  {
   "cell_type": "code",
   "execution_count": null,
   "metadata": {
    "ExecuteTime": {
     "end_time": "2024-05-23T06:57:50.295412Z",
     "start_time": "2024-05-23T06:57:50.295412Z"
    }
   },
   "outputs": [],
   "source": [
    "model = Prophet()  # Initialize Prophet model\n",
    "model.fit(data)  # Fit the model\n",
    "future = model.make_future_dataframe(\n",
    "    periods=12, freq=\"M\"\n",
    ")  # Extend 12 months into the future\n",
    "forecast = model.predict(future)  # Make predictions"
   ]
  },
  {
   "cell_type": "code",
   "execution_count": null,
   "metadata": {},
   "outputs": [],
   "source": [
    "future[\"y\"] = data[\"y\"]  # Add the actual data to the future dataframe\n",
    "future[\"yhat\"] = forecast[\"yhat\"]  # Add the predicted data to the future dataframe"
   ]
  },
  {
   "cell_type": "code",
   "execution_count": null,
   "metadata": {},
   "outputs": [],
   "source": [
    "fig = px.line(\n",
    "    future,\n",
    "    x=\"ds\",\n",
    "    y=\"y\",\n",
    "    title=\"Expenses of Department ID \" + str(department_id),\n",
    "    labels={\"y\": \"Expenses\", \"ds\": \"Months\"},\n",
    ")\n",
    "\n",
    "fig.add_trace(\n",
    "    go.Line(x=future[\"ds\"], y=future[\"yhat\"], mode=\"lines\", name=\"Predicted Expenses\")\n",
    ")\n",
    "fig.add_scatter(\n",
    "    x=future[\"ds\"],\n",
    "    y=future[\"y\"],\n",
    "    mode=\"markers\",\n",
    "    marker=dict(color=\"blue\"),\n",
    "    name=\"Actual Expenses\",\n",
    ")\n",
    "fig.add_scatter(\n",
    "    x=future[\"ds\"],\n",
    "    y=future[\"yhat\"],\n",
    "    mode=\"markers\",\n",
    "    marker=dict(color=\"red\"),\n",
    "    name=\"Predicted Expenses\",\n",
    ")\n",
    "fig.update_layout(xaxis_title=\"Months\", yaxis_title=\"Expenses\", hovermode=\"closest\")\n",
    "\n",
    "fig.show()"
   ]
  },
  {
   "cell_type": "code",
   "execution_count": null,
   "metadata": {},
   "outputs": [],
   "source": []
  }
 ],
 "metadata": {
  "hide_input": false,
  "kernelspec": {
   "display_name": "venv",
   "language": "python",
   "name": "python3"
  },
  "language_info": {
   "codemirror_mode": {
    "name": "ipython",
    "version": 3
   },
   "file_extension": ".py",
   "mimetype": "text/x-python",
   "name": "python",
   "nbconvert_exporter": "python",
   "pygments_lexer": "ipython3",
   "version": "3.11.5"
  }
 },
 "nbformat": 4,
 "nbformat_minor": 2
}
