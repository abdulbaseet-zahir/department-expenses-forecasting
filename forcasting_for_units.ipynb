{
 "cells": [
  {
   "cell_type": "code",
   "execution_count": null,
   "metadata": {
    "ExecuteTime": {
     "end_time": "2024-05-23T06:59:29.300035Z",
     "start_time": "2024-05-23T06:59:27.266972Z"
    }
   },
   "outputs": [],
   "source": [
    "import pandas as pd  # data processing, CSV file I/O (e.g. pd.read_csv)\n",
    "import plotly.express as px  # for data visualization\n",
    "import plotly.graph_objects as go  # for data visualization\n",
    "from prophet import Prophet  # for time series forecasting"
   ]
  },
  {
   "cell_type": "code",
   "execution_count": null,
   "metadata": {},
   "outputs": [],
   "source": [
    "data = pd.read_csv(\"data/data.csv\")  # Read the original data from the csv file\n",
    "data[\"Months\"] = pd.to_datetime(\n",
    "    data[\"Months\"]\n",
    ")  # Convert the Months column to datetime format\n",
    "\n",
    "# remove first two characters from the column Unit_ID\n",
    "data[\"Unit_ID\"] = data[\"Unit_ID\"].map(lambda x: int(str(x)[2:]))"
   ]
  },
  {
   "cell_type": "code",
   "execution_count": null,
   "metadata": {},
   "outputs": [],
   "source": [
    "data = (\n",
    "    data.groupby([\"Department_ID\", \"Unit_ID\", \"Months\"])[\"Expenses\"].sum().reset_index()\n",
    ")  # Group by Department_ID and Months and sum the Expenses so that we get the total expenses for each department in each month"
   ]
  },
  {
   "cell_type": "code",
   "execution_count": null,
   "metadata": {},
   "outputs": [],
   "source": [
    "pivoted_df = data.pivot(\n",
    "    index=\"Months\", columns=[\"Department_ID\", \"Unit_ID\"], values=\"Expenses\"\n",
    ").reset_index()  # Pivot the data so that we have the months as the index and the Department_ID as the columns"
   ]
  },
  {
   "cell_type": "code",
   "execution_count": null,
   "metadata": {},
   "outputs": [],
   "source": [
    "# for d_id in data[\"Department_ID\"].unique():\n",
    "#     months = pivoted_df[\"Months\"]\n",
    "#     dep_data = pd.concat([months, pivoted_df[d_id]], axis=1)\n",
    "#     fig = px.line(\n",
    "#         dep_data,\n",
    "#         x=\"Months\",\n",
    "#         y=dep_data.columns,\n",
    "#         hover_data={\"Months\": \"|%B %d, %Y\"},\n",
    "#         title=\"Expenses by Units in Department \" + str(d_id),\n",
    "#     )\n",
    "#     fig.update_xaxes(dtick=\"M1\", tickformat=\"%b\\n%Y\")\n",
    "#     fig.update_layout(\n",
    "#             xaxis_title=\"Months\",\n",
    "#             yaxis_title=\"Expenses\",\n",
    "#             legend_title=\"Unit ID\",\n",
    "#         )\n",
    "#     # Save the plot as an image\n",
    "#     fig.write_image(\"images/department_\" + str(d_id) + \".png\")"
   ]
  },
  {
   "cell_type": "code",
   "execution_count": null,
   "metadata": {},
   "outputs": [],
   "source": [
    "department_id = 3100  # Department ID for which we want to forecast the expenses\n",
    "\n",
    "months = pivoted_df[\"Months\"]\n",
    "department_data = pd.concat([months, pivoted_df[department_id]], axis=1)\n",
    "\n",
    "fig = px.line(\n",
    "    department_data,\n",
    "    x=\"Months\",\n",
    "    y=department_data.columns,\n",
    "    hover_data={\"Months\": \"|%B %d, %Y\"},\n",
    "    title=\"Expenses by Units in Department \" + str(department_id),\n",
    ")\n",
    "fig.update_xaxes(dtick=\"M1\", tickformat=\"%b\\n%Y\")\n",
    "fig.update_layout(\n",
    "    xaxis_title=\"Months\",\n",
    "    yaxis_title=\"Expenses\",\n",
    "    legend_title=\"Unit ID\",\n",
    ")\n",
    "fig.show()"
   ]
  },
  {
   "cell_type": "code",
   "execution_count": null,
   "metadata": {
    "ExecuteTime": {
     "end_time": "2024-05-23T06:57:50.292505Z",
     "start_time": "2024-05-23T06:57:50.292505Z"
    }
   },
   "outputs": [],
   "source": [
    "unit_id = 68401  # Unit ID for which we want to forecast the expenses\n",
    "unit_data = department_data[[\"Months\", unit_id]]\n",
    "\n",
    "fig = px.line(unit_data, x=\"Months\", y=unit_id)\n",
    "fig.update_xaxes(dtick=\"M1\", tickformat=\"%b\\n%Y\")\n",
    "fig.update_layout(\n",
    "    title=\"Expenses of Unit ID \"\n",
    "    + str(unit_id)\n",
    "    + \" in Department ID \"\n",
    "    + str(department_id),\n",
    "    xaxis_title=\"Months\",\n",
    "    yaxis_title=\"Expenses\",\n",
    ")\n",
    "fig.show()"
   ]
  },
  {
   "cell_type": "code",
   "execution_count": null,
   "metadata": {},
   "outputs": [],
   "source": [
    "train_data = unit_data.rename(\n",
    "    columns={\"Months\": \"ds\", unit_id: \"y\"}\n",
    ")  # Rename the columns to ds and y as required by Prophet"
   ]
  },
  {
   "cell_type": "code",
   "execution_count": null,
   "metadata": {
    "ExecuteTime": {
     "end_time": "2024-05-23T06:57:50.295412Z",
     "start_time": "2024-05-23T06:57:50.295412Z"
    }
   },
   "outputs": [],
   "source": [
    "model = Prophet()  # Initialize Prophet model\n",
    "model.fit(train_data)  # Fit the model\n",
    "future = model.make_future_dataframe(\n",
    "    periods=12, freq=\"M\"\n",
    ")  # Extend 12 months into the future\n",
    "forecast = model.predict(future)  # Make predictions"
   ]
  },
  {
   "cell_type": "code",
   "execution_count": null,
   "metadata": {},
   "outputs": [],
   "source": [
    "future[\"y\"] = train_data[\"y\"]  # Add the actual data to the future dataframe\n",
    "future[\"yhat\"] = forecast[\"yhat\"]  # Add the predicted data to the future dataframe"
   ]
  },
  {
   "cell_type": "code",
   "execution_count": null,
   "metadata": {},
   "outputs": [],
   "source": [
    "fig = px.line(\n",
    "    future,\n",
    "    x=\"ds\",\n",
    "    y=\"y\",\n",
    "    title=\"Forecasting for expenses of Unit ID \"\n",
    "    + str(unit_id)\n",
    "    + \" in Department ID \"\n",
    "    + str(department_id),\n",
    "    labels={\"y\": \"Expenses\", \"ds\": \"Months\"},\n",
    ")\n",
    "\n",
    "fig.add_trace(\n",
    "    go.Line(x=future[\"ds\"], y=future[\"yhat\"], mode=\"lines\", name=\"Predicted Expenses\")\n",
    ")\n",
    "fig.add_scatter(\n",
    "    x=future[\"ds\"],\n",
    "    y=future[\"y\"],\n",
    "    mode=\"markers\",\n",
    "    marker=dict(color=\"blue\"),\n",
    "    name=\"Actual Expenses\",\n",
    ")\n",
    "fig.add_scatter(\n",
    "    x=future[\"ds\"],\n",
    "    y=future[\"yhat\"],\n",
    "    mode=\"markers\",\n",
    "    marker=dict(color=\"red\"),\n",
    "    name=\"Predicted Expenses\",\n",
    ")\n",
    "fig.update_layout(xaxis_title=\"Months\", yaxis_title=\"Expenses\", hovermode=\"closest\")\n",
    "\n",
    "fig.show()"
   ]
  },
  {
   "cell_type": "code",
   "execution_count": null,
   "metadata": {},
   "outputs": [],
   "source": []
  }
 ],
 "metadata": {
  "hide_input": false,
  "kernelspec": {
   "display_name": "venv",
   "language": "python",
   "name": "python3"
  },
  "language_info": {
   "codemirror_mode": {
    "name": "ipython",
    "version": 3
   },
   "file_extension": ".py",
   "mimetype": "text/x-python",
   "name": "python",
   "nbconvert_exporter": "python",
   "pygments_lexer": "ipython3",
   "version": "3.11.5"
  }
 },
 "nbformat": 4,
 "nbformat_minor": 2
}
